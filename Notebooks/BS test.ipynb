{
 "cells": [
  {
   "cell_type": "code",
   "execution_count": 40,
   "id": "2584f93e",
   "metadata": {},
   "outputs": [],
   "source": [
    "import yfinance as yf\n",
    "import numpy as np\n",
    "import pandas as pd\n",
    "import jax.numpy as jnp\n",
    "\n",
    "import sys\n",
    "sys.path.append(r\"C:/Users/olav2/OneDrive - Norwegian School of Economics/Skrivebord/Master/src\")\n",
    "\n",
    "from bs_module import BSModel\n"
   ]
  },
  {
   "cell_type": "code",
   "execution_count": 15,
   "id": "66fec7d6",
   "metadata": {},
   "outputs": [
    {
     "name": "stdout",
     "output_type": "stream",
     "text": [
      "SPX spot: 637.10\n"
     ]
    }
   ],
   "source": [
    "ticker = yf.Ticker(\"SPY\")\n",
    "\n",
    "spot = ticker.history(period=\"1d\")[\"Close\"].iloc[-1]\n",
    "print(f\"SPX spot: {spot:.2f}\")\n"
   ]
  },
  {
   "cell_type": "code",
   "execution_count": 24,
   "id": "61a4fced",
   "metadata": {},
   "outputs": [
    {
     "name": "stdout",
     "output_type": "stream",
     "text": [
      "Expiry valgt: 2025-08-15\n"
     ]
    }
   ],
   "source": [
    "expiries = ticker.options\n",
    "expiry = expiries[6]      \n",
    "print(\"Expiry valgt:\", expiry)"
   ]
  },
  {
   "cell_type": "code",
   "execution_count": 25,
   "id": "28f675a7",
   "metadata": {},
   "outputs": [],
   "source": [
    "chain = ticker.option_chain(expiry)\n",
    "calls = chain.calls\n",
    "puts  = chain.puts"
   ]
  },
  {
   "cell_type": "code",
   "execution_count": 27,
   "id": "042f689b",
   "metadata": {},
   "outputs": [
    {
     "name": "stdout",
     "output_type": "stream",
     "text": [
      "ATM strike: 635.0, markedspris (call): 9.21, T=0.071\n"
     ]
    }
   ],
   "source": [
    "atm_calls = calls.iloc[(calls[\"strike\"] - spot).abs().argsort()[:1]]\n",
    "K = float(atm_calls[\"strike\"].iloc[0])\n",
    "market_price = float(atm_calls[\"lastPrice\"].iloc[0])\n",
    "T = (pd.to_datetime(expiry) - pd.Timestamp.today()).days / 252\n",
    "\n",
    "print(f\"ATM strike: {K}, markedspris (call): {market_price:.2f}, T={T:.3f}\")"
   ]
  },
  {
   "cell_type": "code",
   "execution_count": 36,
   "id": "e8750418",
   "metadata": {},
   "outputs": [
    {
     "name": "stdout",
     "output_type": "stream",
     "text": [
      "Modellpris (sigma=20%): 15.6486\n"
     ]
    }
   ],
   "source": [
    "r = 0.0425   \n",
    "q = 0.0    \n",
    "model = BSModel(r=r, q=q)\n",
    "\n",
    "# Modellpris\n",
    "model_price = model.price(spot, K, T, sigma=0.2, option=\"call\")\n",
    "print(f\"Modellpris (sigma=20%): {model_price:.4f}\")"
   ]
  },
  {
   "cell_type": "code",
   "execution_count": 37,
   "id": "2a7d1567",
   "metadata": {},
   "outputs": [
    {
     "name": "stdout",
     "output_type": "stream",
     "text": [
      "Implied vol: 10.3596%\n"
     ]
    }
   ],
   "source": [
    "# Cell 5: Finn implied vol\n",
    "iv = model.implied_vol(\n",
    "    market_price=market_price,\n",
    "    S=spot,\n",
    "    K=K,\n",
    "    T=T,\n",
    "    option=\"call\",\n",
    "    sigma0=0.2,\n",
    "    tol=1e-6,\n",
    "    maxiter=50\n",
    ")\n",
    "print(f\"Implied vol: {iv:.4%}\")"
   ]
  },
  {
   "cell_type": "code",
   "execution_count": 41,
   "id": "64ad4ee9",
   "metadata": {},
   "outputs": [
    {
     "ename": "ValueError",
     "evalue": "vmap in_axes must be an int, None, or a tuple of entries corresponding to the positional arguments passed to the function, but got len(in_axes)=6, len(args)=5",
     "output_type": "error",
     "traceback": [
      "\u001b[31m---------------------------------------------------------------------------\u001b[39m",
      "\u001b[31mValueError\u001b[39m                                Traceback (most recent call last)",
      "\u001b[36mCell\u001b[39m\u001b[36m \u001b[39m\u001b[32mIn[41]\u001b[39m\u001b[32m, line 12\u001b[39m\n\u001b[32m      9\u001b[39m sigmas_guess = jnp.full_like(Ks_j, \u001b[32m0.2\u001b[39m)\n\u001b[32m     11\u001b[39m \u001b[38;5;66;03m# Vektorisert prising\u001b[39;00m\n\u001b[32m---> \u001b[39m\u001b[32m12\u001b[39m model_prices = \u001b[43mmodel\u001b[49m\u001b[43m.\u001b[49m\u001b[43mprice_vec\u001b[49m\u001b[43m(\u001b[49m\u001b[43mSs\u001b[49m\u001b[43m,\u001b[49m\u001b[43m \u001b[49m\u001b[43mKs_j\u001b[49m\u001b[43m,\u001b[49m\u001b[43m \u001b[49m\u001b[43mTs_j\u001b[49m\u001b[43m,\u001b[49m\u001b[43m \u001b[49m\u001b[43msigmas_guess\u001b[49m\u001b[43m,\u001b[49m\u001b[43m \u001b[49m\u001b[33;43m'\u001b[39;49m\u001b[33;43mcall\u001b[39;49m\u001b[33;43m'\u001b[39;49m\u001b[43m)\u001b[49m\n\u001b[32m     13\u001b[39m \u001b[38;5;28mprint\u001b[39m(\u001b[33m\"\u001b[39m\u001b[33mMarkedspriser:\u001b[39m\u001b[33m\"\u001b[39m, mkt_prices)\n\u001b[32m     14\u001b[39m \u001b[38;5;28mprint\u001b[39m(\u001b[33m\"\u001b[39m\u001b[33mModellpriser:\u001b[39m\u001b[33m\"\u001b[39m, np.array(model_prices))\n",
      "    \u001b[31m[... skipping hidden 1 frame]\u001b[39m\n",
      "\u001b[36mFile \u001b[39m\u001b[32mc:\\Users\\olav2\\AppData\\Local\\Programs\\Python\\Python312\\Lib\\site-packages\\jax\\_src\\api.py:1088\u001b[39m, in \u001b[36mvmap.<locals>.vmap_f\u001b[39m\u001b[34m(*args, **kwargs)\u001b[39m\n\u001b[32m   1084\u001b[39m \u001b[38;5;129m@wraps\u001b[39m(fun, docstr=docstr)\n\u001b[32m   1085\u001b[39m \u001b[38;5;129m@api_boundary\u001b[39m\n\u001b[32m   1086\u001b[39m \u001b[38;5;28;01mdef\u001b[39;00m\u001b[38;5;250m \u001b[39m\u001b[34mvmap_f\u001b[39m(*args, **kwargs):\n\u001b[32m   1087\u001b[39m   \u001b[38;5;28;01mif\u001b[39;00m \u001b[38;5;28misinstance\u001b[39m(in_axes, \u001b[38;5;28mtuple\u001b[39m) \u001b[38;5;129;01mand\u001b[39;00m \u001b[38;5;28mlen\u001b[39m(in_axes) != \u001b[38;5;28mlen\u001b[39m(args):\n\u001b[32m-> \u001b[39m\u001b[32m1088\u001b[39m     \u001b[38;5;28;01mraise\u001b[39;00m \u001b[38;5;167;01mValueError\u001b[39;00m(\u001b[33m\"\u001b[39m\u001b[33mvmap in_axes must be an int, None, or a tuple of entries corresponding \u001b[39m\u001b[33m\"\u001b[39m\n\u001b[32m   1089\u001b[39m                      \u001b[33m\"\u001b[39m\u001b[33mto the positional arguments passed to the function, \u001b[39m\u001b[33m\"\u001b[39m\n\u001b[32m   1090\u001b[39m                      \u001b[33mf\u001b[39m\u001b[33m\"\u001b[39m\u001b[33mbut got \u001b[39m\u001b[38;5;132;01m{\u001b[39;00m\u001b[38;5;28mlen\u001b[39m(in_axes)\u001b[38;5;132;01m=}\u001b[39;00m\u001b[33m, \u001b[39m\u001b[38;5;132;01m{\u001b[39;00m\u001b[38;5;28mlen\u001b[39m(args)\u001b[38;5;132;01m=}\u001b[39;00m\u001b[33m\"\u001b[39m)\n\u001b[32m   1092\u001b[39m   args_flat, in_tree  = tree_flatten((args, kwargs), is_leaf=batching.is_vmappable)\n\u001b[32m   1093\u001b[39m   dbg = debug_info(\u001b[33m\"\u001b[39m\u001b[33mvmap\u001b[39m\u001b[33m\"\u001b[39m, fun, args, kwargs)\n",
      "\u001b[31mValueError\u001b[39m: vmap in_axes must be an int, None, or a tuple of entries corresponding to the positional arguments passed to the function, but got len(in_axes)=6, len(args)=5"
     ]
    }
   ],
   "source": [
    "nearest = calls.iloc[(calls[\"strike\"]-spot).abs().argsort()[:5]]\n",
    "Ks = nearest[\"strike\"].values\n",
    "mkt_prices = nearest[\"lastPrice\"].values\n",
    "Ts = np.full_like(Ks, T)\n",
    "\n",
    "Ss = jnp.array([spot]*len(Ks))\n",
    "Ks_j = jnp.array(Ks)\n",
    "Ts_j = jnp.array(Ts)\n",
    "sigmas_guess = jnp.full_like(Ks_j, 0.2)\n",
    "\n",
    "# Vektorisert prising\n",
    "model_prices = model.price_vec(Ss, Ks_j, Ts_j, sigmas_guess, 'call')\n",
    "print(\"Markedspriser:\", mkt_prices)\n",
    "print(\"Modellpriser:\", np.array(model_prices))\n",
    "\n",
    "# Vektorisert implied vol (loop internt)\n",
    "ivs = model.implied_vol(mkt_prices, Ss, Ks_j, Ts_j, option='call')\n",
    "print(\"Implied vols:\", np.array(ivs))"
   ]
  }
 ],
 "metadata": {
  "kernelspec": {
   "display_name": "Python 3",
   "language": "python",
   "name": "python3"
  },
  "language_info": {
   "codemirror_mode": {
    "name": "ipython",
    "version": 3
   },
   "file_extension": ".py",
   "mimetype": "text/x-python",
   "name": "python",
   "nbconvert_exporter": "python",
   "pygments_lexer": "ipython3",
   "version": "3.12.5"
  }
 },
 "nbformat": 4,
 "nbformat_minor": 5
}
